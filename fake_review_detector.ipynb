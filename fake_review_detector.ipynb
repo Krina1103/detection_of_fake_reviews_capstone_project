{
 "cells": [
  {
   "cell_type": "code",
   "execution_count": 1,
   "id": "e558462c",
   "metadata": {},
   "outputs": [],
   "source": [
    "import numpy as np\n",
    "import pandas as pd\n",
    "import matplotlib.pyplot as plt\n",
    "%matplotlib inline\n",
    "import seaborn as sns\n",
    "sns.set_style('darkgrid')\n",
    "import nltk\n",
    "from nltk.corpus import stopwords\n",
    "from nltk.tokenize import word_tokenize\n",
    "from nltk.stem import  PorterStemmer \n",
    "from nltk.stem import WordNetLemmatizer\n",
    "import string"
   ]
  },
  {
   "cell_type": "code",
   "execution_count": 2,
   "id": "033c77fc",
   "metadata": {
    "scrolled": true
   },
   "outputs": [
    {
     "data": {
      "text/html": [
       "<div>\n",
       "<style scoped>\n",
       "    .dataframe tbody tr th:only-of-type {\n",
       "        vertical-align: middle;\n",
       "    }\n",
       "\n",
       "    .dataframe tbody tr th {\n",
       "        vertical-align: top;\n",
       "    }\n",
       "\n",
       "    .dataframe thead th {\n",
       "        text-align: right;\n",
       "    }\n",
       "</style>\n",
       "<table border=\"1\" class=\"dataframe\">\n",
       "  <thead>\n",
       "    <tr style=\"text-align: right;\">\n",
       "      <th></th>\n",
       "      <th>category</th>\n",
       "      <th>rating</th>\n",
       "      <th>label</th>\n",
       "      <th>text_</th>\n",
       "    </tr>\n",
       "  </thead>\n",
       "  <tbody>\n",
       "    <tr>\n",
       "      <th>0</th>\n",
       "      <td>Home_and_Kitchen_5</td>\n",
       "      <td>5.0</td>\n",
       "      <td>CG</td>\n",
       "      <td>Love this!  Well made, sturdy, and very comfor...</td>\n",
       "    </tr>\n",
       "    <tr>\n",
       "      <th>1</th>\n",
       "      <td>Home_and_Kitchen_5</td>\n",
       "      <td>5.0</td>\n",
       "      <td>CG</td>\n",
       "      <td>love it, a great upgrade from the original.  I...</td>\n",
       "    </tr>\n",
       "    <tr>\n",
       "      <th>2</th>\n",
       "      <td>Home_and_Kitchen_5</td>\n",
       "      <td>5.0</td>\n",
       "      <td>CG</td>\n",
       "      <td>This pillow saved my back. I love the look and...</td>\n",
       "    </tr>\n",
       "    <tr>\n",
       "      <th>3</th>\n",
       "      <td>Home_and_Kitchen_5</td>\n",
       "      <td>1.0</td>\n",
       "      <td>CG</td>\n",
       "      <td>Missing information on how to use it, but it i...</td>\n",
       "    </tr>\n",
       "    <tr>\n",
       "      <th>4</th>\n",
       "      <td>Home_and_Kitchen_5</td>\n",
       "      <td>5.0</td>\n",
       "      <td>CG</td>\n",
       "      <td>Very nice set. Good quality. We have had the s...</td>\n",
       "    </tr>\n",
       "  </tbody>\n",
       "</table>\n",
       "</div>"
      ],
      "text/plain": [
       "             category  rating label  \\\n",
       "0  Home_and_Kitchen_5     5.0    CG   \n",
       "1  Home_and_Kitchen_5     5.0    CG   \n",
       "2  Home_and_Kitchen_5     5.0    CG   \n",
       "3  Home_and_Kitchen_5     1.0    CG   \n",
       "4  Home_and_Kitchen_5     5.0    CG   \n",
       "\n",
       "                                               text_  \n",
       "0  Love this!  Well made, sturdy, and very comfor...  \n",
       "1  love it, a great upgrade from the original.  I...  \n",
       "2  This pillow saved my back. I love the look and...  \n",
       "3  Missing information on how to use it, but it i...  \n",
       "4  Very nice set. Good quality. We have had the s...  "
      ]
     },
     "execution_count": 2,
     "metadata": {},
     "output_type": "execute_result"
    }
   ],
   "source": [
    "df = pd.read_csv('fake reviews dataset.csv')\n",
    "df.head()"
   ]
  },
  {
   "cell_type": "code",
   "execution_count": 3,
   "id": "c766b7c0",
   "metadata": {
    "scrolled": true
   },
   "outputs": [
    {
     "name": "stdout",
     "output_type": "stream",
     "text": [
      "<class 'pandas.core.frame.DataFrame'>\n",
      "RangeIndex: 40432 entries, 0 to 40431\n",
      "Data columns (total 4 columns):\n",
      " #   Column    Non-Null Count  Dtype  \n",
      "---  ------    --------------  -----  \n",
      " 0   category  40432 non-null  object \n",
      " 1   rating    40432 non-null  float64\n",
      " 2   label     40432 non-null  object \n",
      " 3   text_     40432 non-null  object \n",
      "dtypes: float64(1), object(3)\n",
      "memory usage: 1.2+ MB\n"
     ]
    }
   ],
   "source": [
    "df.info()"
   ]
  },
  {
   "cell_type": "markdown",
   "id": "4ee7de7a",
   "metadata": {},
   "source": [
    "#### Summary Statistics"
   ]
  },
  {
   "cell_type": "code",
   "execution_count": 4,
   "id": "b5126add",
   "metadata": {
    "scrolled": true
   },
   "outputs": [
    {
     "data": {
      "text/html": [
       "<div>\n",
       "<style scoped>\n",
       "    .dataframe tbody tr th:only-of-type {\n",
       "        vertical-align: middle;\n",
       "    }\n",
       "\n",
       "    .dataframe tbody tr th {\n",
       "        vertical-align: top;\n",
       "    }\n",
       "\n",
       "    .dataframe thead th {\n",
       "        text-align: right;\n",
       "    }\n",
       "</style>\n",
       "<table border=\"1\" class=\"dataframe\">\n",
       "  <thead>\n",
       "    <tr style=\"text-align: right;\">\n",
       "      <th></th>\n",
       "      <th>rating</th>\n",
       "    </tr>\n",
       "  </thead>\n",
       "  <tbody>\n",
       "    <tr>\n",
       "      <th>count</th>\n",
       "      <td>40432.000000</td>\n",
       "    </tr>\n",
       "    <tr>\n",
       "      <th>mean</th>\n",
       "      <td>4.256579</td>\n",
       "    </tr>\n",
       "    <tr>\n",
       "      <th>std</th>\n",
       "      <td>1.144354</td>\n",
       "    </tr>\n",
       "    <tr>\n",
       "      <th>min</th>\n",
       "      <td>1.000000</td>\n",
       "    </tr>\n",
       "    <tr>\n",
       "      <th>25%</th>\n",
       "      <td>4.000000</td>\n",
       "    </tr>\n",
       "    <tr>\n",
       "      <th>50%</th>\n",
       "      <td>5.000000</td>\n",
       "    </tr>\n",
       "    <tr>\n",
       "      <th>75%</th>\n",
       "      <td>5.000000</td>\n",
       "    </tr>\n",
       "    <tr>\n",
       "      <th>max</th>\n",
       "      <td>5.000000</td>\n",
       "    </tr>\n",
       "  </tbody>\n",
       "</table>\n",
       "</div>"
      ],
      "text/plain": [
       "             rating\n",
       "count  40432.000000\n",
       "mean       4.256579\n",
       "std        1.144354\n",
       "min        1.000000\n",
       "25%        4.000000\n",
       "50%        5.000000\n",
       "75%        5.000000\n",
       "max        5.000000"
      ]
     },
     "execution_count": 4,
     "metadata": {},
     "output_type": "execute_result"
    }
   ],
   "source": [
    "df.describe()"
   ]
  },
  {
   "cell_type": "code",
   "execution_count": 5,
   "id": "e6d6545b",
   "metadata": {
    "scrolled": false
   },
   "outputs": [
    {
     "data": {
      "text/plain": [
       "5.0    24559\n",
       "4.0     7965\n",
       "3.0     3786\n",
       "1.0     2155\n",
       "2.0     1967\n",
       "Name: rating, dtype: int64"
      ]
     },
     "execution_count": 5,
     "metadata": {},
     "output_type": "execute_result"
    }
   ],
   "source": [
    "df['rating'].value_counts()"
   ]
  },
  {
   "cell_type": "code",
   "execution_count": 6,
   "id": "fef6739b",
   "metadata": {
    "scrolled": true
   },
   "outputs": [
    {
     "data": {
      "text/plain": [
       "category    0\n",
       "rating      0\n",
       "label       0\n",
       "text_       0\n",
       "dtype: int64"
      ]
     },
     "execution_count": 6,
     "metadata": {},
     "output_type": "execute_result"
    }
   ],
   "source": [
    "df.isnull().sum()"
   ]
  },
  {
   "cell_type": "code",
   "execution_count": 34,
   "id": "b0cd4a98",
   "metadata": {},
   "outputs": [
    {
     "data": {
      "text/plain": [
       "Text(0.5, 1.0, 'Count of Product Categories')"
      ]
     },
     "execution_count": 34,
     "metadata": {},
     "output_type": "execute_result"
    },
    {
     "data": {
      "image/png": "[encoded data removed]",
      "text/plain": [
       "<Figure size 1570.88x500 with 1 Axes>"
      ]
     },
     "metadata": {},
     "output_type": "display_data"
    }
   ],
   "source": [
    "sns.catplot(y ='category',kind=\"count\", hue = \"label\", data=df,  height=5, aspect=3)\n",
    "plt.ylabel(\"category\")\n",
    "plt.xlabel(\"count of reviews\")\n",
    "plt.title(\"Count of Product Categories\")"
   ]
  },
  {
   "cell_type": "code",
   "execution_count": 58,
   "id": "4c155d43",
   "metadata": {},
   "outputs": [
    {
     "data": {
      "image/png": "[encoded data removed]",
      "text/plain": [
       "<Figure size 5000x2000 with 1 Axes>"
      ]
     },
     "metadata": {},
     "output_type": "display_data"
    }
   ],
   "source": [
    "cols = [\"label\", \"text_\"]\n",
    "vprt = df[cols] #making a subset of the dataframe-\n",
    "\n",
    "#FILTERING BASED ON TRUE AND FALSE VP\n",
    "checkTrue = vprt[\"label\"] == \"OR\"\n",
    "filtered_true = vprt[checkTrue]\n",
    "\n",
    "checkFalse = vprt[\"label\"] == \"CG\"\n",
    "filtered_false = vprt[checkFalse]\n",
    "\n",
    "\n",
    "#AVERAGE REVIEW LENGTH BASED ON TRUE AND FALSE VP\n",
    "CG_average_length = filtered_false[\"text_\"].apply(len).mean()\n",
    "OR_average_length = filtered_true[\"text_\"].apply(len).mean()\n",
    "\n",
    "#PLOTTING THE GRAPH\n",
    "sns.barplot(x = [OR_average_length,CG_average_length] , y= [\"OR\", \"CG\"], data=df)\n",
    "plt.xlabel(\"average length of reviews\")\n",
    "plt.ylabel(\"Review Status\")\n",
    "plt.title(\"Average Length of Reviews based on Status\")\n",
    "plt.show()"
   ]
  },
  {
   "cell_type": "markdown",
   "id": "e2a2b6a9",
   "metadata": {},
   "source": [
    "## PRE-PROCESSING"
   ]
  },
  {
   "cell_type": "markdown",
   "id": "e4bb51ee",
   "metadata": {},
   "source": [
    "#### Removing Duplicates"
   ]
  },
  {
   "cell_type": "code",
   "execution_count": 8,
   "id": "ae841570",
   "metadata": {},
   "outputs": [
    {
     "name": "stdout",
     "output_type": "stream",
     "text": [
      "Number of duplicates in dataset:  12\n"
     ]
    }
   ],
   "source": [
    "#DISPLAYS THE NUMBER OF DUPLICATED VALUES\n",
    "dup = df.duplicated().sum()\n",
    "print(\"Number of duplicates in dataset: \", dup)"
   ]
  },
  {
   "cell_type": "code",
   "execution_count": 9,
   "id": "22b108f5",
   "metadata": {},
   "outputs": [],
   "source": [
    "df = df.drop_duplicates(keep='first')"
   ]
  },
  {
   "cell_type": "code",
   "execution_count": 10,
   "id": "a6fae2ef",
   "metadata": {},
   "outputs": [
    {
     "name": "stdout",
     "output_type": "stream",
     "text": [
      "Number of duplicates in dataset:  0\n"
     ]
    }
   ],
   "source": [
    "#checking if the duplicate values are dropped\n",
    "dup = df.duplicated().sum()\n",
    "print(\"Number of duplicates in dataset: \", dup)"
   ]
  },
  {
   "cell_type": "code",
   "execution_count": 11,
   "id": "ad3fe6e9",
   "metadata": {
    "scrolled": true
   },
   "outputs": [
    {
     "data": {
      "text/html": [
       "<div>\n",
       "<style scoped>\n",
       "    .dataframe tbody tr th:only-of-type {\n",
       "        vertical-align: middle;\n",
       "    }\n",
       "\n",
       "    .dataframe tbody tr th {\n",
       "        vertical-align: top;\n",
       "    }\n",
       "\n",
       "    .dataframe thead th {\n",
       "        text-align: right;\n",
       "    }\n",
       "</style>\n",
       "<table border=\"1\" class=\"dataframe\">\n",
       "  <thead>\n",
       "    <tr style=\"text-align: right;\">\n",
       "      <th></th>\n",
       "      <th>rating</th>\n",
       "    </tr>\n",
       "  </thead>\n",
       "  <tbody>\n",
       "    <tr>\n",
       "      <th>count</th>\n",
       "      <td>40420.000000</td>\n",
       "    </tr>\n",
       "    <tr>\n",
       "      <th>mean</th>\n",
       "      <td>4.256358</td>\n",
       "    </tr>\n",
       "    <tr>\n",
       "      <th>std</th>\n",
       "      <td>1.144452</td>\n",
       "    </tr>\n",
       "    <tr>\n",
       "      <th>min</th>\n",
       "      <td>1.000000</td>\n",
       "    </tr>\n",
       "    <tr>\n",
       "      <th>25%</th>\n",
       "      <td>4.000000</td>\n",
       "    </tr>\n",
       "    <tr>\n",
       "      <th>50%</th>\n",
       "      <td>5.000000</td>\n",
       "    </tr>\n",
       "    <tr>\n",
       "      <th>75%</th>\n",
       "      <td>5.000000</td>\n",
       "    </tr>\n",
       "    <tr>\n",
       "      <th>max</th>\n",
       "      <td>5.000000</td>\n",
       "    </tr>\n",
       "  </tbody>\n",
       "</table>\n",
       "</div>"
      ],
      "text/plain": [
       "             rating\n",
       "count  40420.000000\n",
       "mean       4.256358\n",
       "std        1.144452\n",
       "min        1.000000\n",
       "25%        4.000000\n",
       "50%        5.000000\n",
       "75%        5.000000\n",
       "max        5.000000"
      ]
     },
     "execution_count": 11,
     "metadata": {},
     "output_type": "execute_result"
    }
   ],
   "source": [
    "df.describe()"
   ]
  },
  {
   "cell_type": "code",
   "execution_count": 12,
   "id": "c094fde5",
   "metadata": {},
   "outputs": [
    {
     "data": {
      "image/png": "[encoded data removed]",
      "text/plain": [
       "<Figure size 720x576 with 1 Axes>"
      ]
     },
     "metadata": {},
     "output_type": "display_data"
    }
   ],
   "source": [
    "plt.figure(figsize=(10,8))\n",
    "labels = df['rating'].value_counts().keys()\n",
    "values = df['rating'].value_counts().values\n",
    "explode = (0.1,0,0,0,0)\n",
    "plt.pie(values,labels=labels,explode=explode,shadow=True,autopct='%1.1f%%')\n",
    "plt.title('Pie Chart for Ratings',fontweight='bold',fontsize=25,pad=20,color='crimson')\n",
    "plt.show()"
   ]
  },
  {
   "cell_type": "code",
   "execution_count": 13,
   "id": "9bab6925",
   "metadata": {
    "scrolled": true
   },
   "outputs": [
    {
     "name": "stderr",
     "output_type": "stream",
     "text": [
      "[nltk_data] Downloading package stopwords to\n",
      "[nltk_data]     C:\\Users\\Kpatel\\AppData\\Roaming\\nltk_data...\n",
      "[nltk_data]   Package stopwords is already up-to-date!\n"
     ]
    },
    {
     "data": {
      "text/plain": [
       "True"
      ]
     },
     "execution_count": 13,
     "metadata": {},
     "output_type": "execute_result"
    }
   ],
   "source": [
    "nltk.download('stopwords')"
   ]
  },
  {
   "cell_type": "markdown",
   "id": "330fb100",
   "metadata": {},
   "source": [
    "### Exploratory Data Analysis"
   ]
  },
  {
   "cell_type": "code",
   "execution_count": 14,
   "id": "1c33438a",
   "metadata": {},
   "outputs": [],
   "source": [
    "#WORD COUNT\n",
    "df['total words'] = df['text_'].apply(lambda i: len(str(i).split(\" \")))\n",
    "\n",
    "#CHARACTER COUNT\n",
    "df['total characters'] = df['text_'].str.len() #spaces are included\n",
    "\n",
    "#STOPWORDS COUNT\n",
    "sw = set(stopwords.words('english'))\n",
    "df['total stopwords'] = df['text_'].str.split().apply(lambda i: len(set(i) & sw))\n",
    "\n",
    "#PUNCTUATION AND SPECIAL CHARA COUNT\n",
    "count_p = lambda p1,p2: sum([1 for i in p1 if i in p2])\n",
    "df['total punctuations'] = df.text_.apply(lambda p: count_p(p, string.punctuation))\n",
    "\n",
    "#UPPERCASE CHARA COUNT\n",
    "df['total uppercases'] = df['text_'].str.findall(r'[A-Z]').str.len() #findall - finds all"
   ]
  },
  {
   "cell_type": "code",
   "execution_count": 15,
   "id": "7cc73444",
   "metadata": {
    "scrolled": false
   },
   "outputs": [
    {
     "data": {
      "text/html": [
       "<div>\n",
       "<style scoped>\n",
       "    .dataframe tbody tr th:only-of-type {\n",
       "        vertical-align: middle;\n",
       "    }\n",
       "\n",
       "    .dataframe tbody tr th {\n",
       "        vertical-align: top;\n",
       "    }\n",
       "\n",
       "    .dataframe thead th {\n",
       "        text-align: right;\n",
       "    }\n",
       "</style>\n",
       "<table border=\"1\" class=\"dataframe\">\n",
       "  <thead>\n",
       "    <tr style=\"text-align: right;\">\n",
       "      <th></th>\n",
       "      <th>category</th>\n",
       "      <th>rating</th>\n",
       "      <th>label</th>\n",
       "      <th>text_</th>\n",
       "      <th>total words</th>\n",
       "      <th>total characters</th>\n",
       "      <th>total stopwords</th>\n",
       "      <th>total punctuations</th>\n",
       "      <th>total uppercases</th>\n",
       "    </tr>\n",
       "  </thead>\n",
       "  <tbody>\n",
       "    <tr>\n",
       "      <th>0</th>\n",
       "      <td>Home_and_Kitchen_5</td>\n",
       "      <td>5.0</td>\n",
       "      <td>CG</td>\n",
       "      <td>Love this!  Well made, sturdy, and very comfor...</td>\n",
       "      <td>14</td>\n",
       "      <td>75</td>\n",
       "      <td>2</td>\n",
       "      <td>5</td>\n",
       "      <td>4</td>\n",
       "    </tr>\n",
       "    <tr>\n",
       "      <th>1</th>\n",
       "      <td>Home_and_Kitchen_5</td>\n",
       "      <td>5.0</td>\n",
       "      <td>CG</td>\n",
       "      <td>love it, a great upgrade from the original.  I...</td>\n",
       "      <td>17</td>\n",
       "      <td>80</td>\n",
       "      <td>6</td>\n",
       "      <td>3</td>\n",
       "      <td>1</td>\n",
       "    </tr>\n",
       "    <tr>\n",
       "      <th>2</th>\n",
       "      <td>Home_and_Kitchen_5</td>\n",
       "      <td>5.0</td>\n",
       "      <td>CG</td>\n",
       "      <td>This pillow saved my back. I love the look and...</td>\n",
       "      <td>14</td>\n",
       "      <td>67</td>\n",
       "      <td>5</td>\n",
       "      <td>2</td>\n",
       "      <td>2</td>\n",
       "    </tr>\n",
       "    <tr>\n",
       "      <th>3</th>\n",
       "      <td>Home_and_Kitchen_5</td>\n",
       "      <td>1.0</td>\n",
       "      <td>CG</td>\n",
       "      <td>Missing information on how to use it, but it i...</td>\n",
       "      <td>18</td>\n",
       "      <td>81</td>\n",
       "      <td>9</td>\n",
       "      <td>2</td>\n",
       "      <td>2</td>\n",
       "    </tr>\n",
       "    <tr>\n",
       "      <th>4</th>\n",
       "      <td>Home_and_Kitchen_5</td>\n",
       "      <td>5.0</td>\n",
       "      <td>CG</td>\n",
       "      <td>Very nice set. Good quality. We have had the s...</td>\n",
       "      <td>18</td>\n",
       "      <td>85</td>\n",
       "      <td>8</td>\n",
       "      <td>2</td>\n",
       "      <td>3</td>\n",
       "    </tr>\n",
       "  </tbody>\n",
       "</table>\n",
       "</div>"
      ],
      "text/plain": [
       "             category  rating label  \\\n",
       "0  Home_and_Kitchen_5     5.0    CG   \n",
       "1  Home_and_Kitchen_5     5.0    CG   \n",
       "2  Home_and_Kitchen_5     5.0    CG   \n",
       "3  Home_and_Kitchen_5     1.0    CG   \n",
       "4  Home_and_Kitchen_5     5.0    CG   \n",
       "\n",
       "                                               text_  total words  \\\n",
       "0  Love this!  Well made, sturdy, and very comfor...           14   \n",
       "1  love it, a great upgrade from the original.  I...           17   \n",
       "2  This pillow saved my back. I love the look and...           14   \n",
       "3  Missing information on how to use it, but it i...           18   \n",
       "4  Very nice set. Good quality. We have had the s...           18   \n",
       "\n",
       "   total characters  total stopwords  total punctuations  total uppercases  \n",
       "0                75                2                   5                 4  \n",
       "1                80                6                   3                 1  \n",
       "2                67                5                   2                 2  \n",
       "3                81                9                   2                 2  \n",
       "4                85                8                   2                 3  "
      ]
     },
     "execution_count": 15,
     "metadata": {},
     "output_type": "execute_result"
    }
   ],
   "source": [
    "df.head() #UPDATED "
   ]
  },
  {
   "cell_type": "code",
   "execution_count": 16,
   "id": "bc4d0c0a",
   "metadata": {
    "scrolled": true
   },
   "outputs": [
    {
     "data": {
      "image/png": "[encoded data removed]",
      "text/plain": [
       "<Figure size 288x288 with 1 Axes>"
      ]
     },
     "metadata": {},
     "output_type": "display_data"
    }
   ],
   "source": [
    "#PIE CHART ON Fake or Original Label -two\n",
    "colors = ['#00FF00','#FFFF00']\n",
    "plt.figure(figsize=(4,4))\n",
    "label = df['label'].value_counts()\n",
    "plt.pie(label.values,colors = colors, labels=label.index, autopct= '%1.1f%%', startangle=90)\n",
    "plt.title('Fake and Original Reviews Count', fontsize=15)\n",
    "plt.show()"
   ]
  },
  {
   "cell_type": "code",
   "execution_count": 17,
   "id": "0a4904cd",
   "metadata": {
    "scrolled": true
   },
   "outputs": [
    {
     "data": {
      "text/plain": [
       "Text(0.5, 1.0, 'Rating Grouped by Label')"
      ]
     },
     "execution_count": 17,
     "metadata": {},
     "output_type": "execute_result"
    },
    {
     "data": {
      "image/png": "[encoded data removed]",
      "text/plain": [
       "<Figure size 410.875x360 with 1 Axes>"
      ]
     },
     "metadata": {},
     "output_type": "display_data"
    }
   ],
   "source": [
    "sns.catplot(x ='rating',kind=\"count\", hue=\"label\", data=df)\n",
    "plt.xlabel(\"rating\")\n",
    "plt.ylabel(\"count of reviews\")\n",
    "plt.title(\"Rating Grouped by Label\")"
   ]
  },
  {
   "cell_type": "code",
   "execution_count": 18,
   "id": "3fed6b14",
   "metadata": {},
   "outputs": [
    {
     "data": {
      "text/html": [
       "<div>\n",
       "<style scoped>\n",
       "    .dataframe tbody tr th:only-of-type {\n",
       "        vertical-align: middle;\n",
       "    }\n",
       "\n",
       "    .dataframe tbody tr th {\n",
       "        vertical-align: top;\n",
       "    }\n",
       "\n",
       "    .dataframe thead th {\n",
       "        text-align: right;\n",
       "    }\n",
       "</style>\n",
       "<table border=\"1\" class=\"dataframe\">\n",
       "  <thead>\n",
       "    <tr style=\"text-align: right;\">\n",
       "      <th></th>\n",
       "      <th>category</th>\n",
       "      <th>rating</th>\n",
       "      <th>label</th>\n",
       "      <th>text_</th>\n",
       "    </tr>\n",
       "  </thead>\n",
       "  <tbody>\n",
       "    <tr>\n",
       "      <th>0</th>\n",
       "      <td>Home_and_Kitchen_5</td>\n",
       "      <td>5.0</td>\n",
       "      <td>CG</td>\n",
       "      <td>Love this!  Well made, sturdy, and very comfor...</td>\n",
       "    </tr>\n",
       "    <tr>\n",
       "      <th>1</th>\n",
       "      <td>Home_and_Kitchen_5</td>\n",
       "      <td>5.0</td>\n",
       "      <td>CG</td>\n",
       "      <td>love it, a great upgrade from the original.  I...</td>\n",
       "    </tr>\n",
       "    <tr>\n",
       "      <th>2</th>\n",
       "      <td>Home_and_Kitchen_5</td>\n",
       "      <td>5.0</td>\n",
       "      <td>CG</td>\n",
       "      <td>This pillow saved my back. I love the look and...</td>\n",
       "    </tr>\n",
       "    <tr>\n",
       "      <th>3</th>\n",
       "      <td>Home_and_Kitchen_5</td>\n",
       "      <td>1.0</td>\n",
       "      <td>CG</td>\n",
       "      <td>Missing information on how to use it, but it i...</td>\n",
       "    </tr>\n",
       "    <tr>\n",
       "      <th>4</th>\n",
       "      <td>Home_and_Kitchen_5</td>\n",
       "      <td>5.0</td>\n",
       "      <td>CG</td>\n",
       "      <td>Very nice set. Good quality. We have had the s...</td>\n",
       "    </tr>\n",
       "  </tbody>\n",
       "</table>\n",
       "</div>"
      ],
      "text/plain": [
       "             category  rating label  \\\n",
       "0  Home_and_Kitchen_5     5.0    CG   \n",
       "1  Home_and_Kitchen_5     5.0    CG   \n",
       "2  Home_and_Kitchen_5     5.0    CG   \n",
       "3  Home_and_Kitchen_5     1.0    CG   \n",
       "4  Home_and_Kitchen_5     5.0    CG   \n",
       "\n",
       "                                               text_  \n",
       "0  Love this!  Well made, sturdy, and very comfor...  \n",
       "1  love it, a great upgrade from the original.  I...  \n",
       "2  This pillow saved my back. I love the look and...  \n",
       "3  Missing information on how to use it, but it i...  \n",
       "4  Very nice set. Good quality. We have had the s...  "
      ]
     },
     "execution_count": 18,
     "metadata": {},
     "output_type": "execute_result"
    }
   ],
   "source": [
    "#DROP UNNECESSARY COLUMNS\n",
    "df.drop([\"total words\",\"total characters\",\n",
    "         \"total stopwords\",\"total punctuations\",\n",
    "         \"total uppercases\"], axis=1, inplace=True)\n",
    "df.head()"
   ]
  },
  {
   "cell_type": "markdown",
   "id": "57556afd",
   "metadata": {},
   "source": [
    "#### Removing punctuation character\n",
    "\n",
    "Punctuation marks used at the starting and ending of the reviews are removed along\n",
    "with additional white spaces."
   ]
  },
  {
   "cell_type": "code",
   "execution_count": 19,
   "id": "3c5658db",
   "metadata": {},
   "outputs": [],
   "source": [
    "def clean_text(text):\n",
    "    nopunc = [w for w in text if w not in string.punctuation]\n",
    "    nopunc = ''.join(nopunc)\n",
    "    return  ' '.join([word for word in nopunc.split() if word.lower() not in stopwords.words('english')])"
   ]
  },
  {
   "cell_type": "code",
   "execution_count": 20,
   "id": "8752f7de",
   "metadata": {
    "scrolled": true
   },
   "outputs": [
    {
     "data": {
      "text/plain": [
       "('Love this!  Well made, sturdy, and very comfortable.  I love it!Very pretty',\n",
       " 'Love Well made sturdy comfortable love itVery pretty')"
      ]
     },
     "execution_count": 20,
     "metadata": {},
     "output_type": "execute_result"
    }
   ],
   "source": [
    "df['text_'][0], clean_text(df['text_'][0])"
   ]
  },
  {
   "cell_type": "code",
   "execution_count": 21,
   "id": "24ff1da1",
   "metadata": {
    "scrolled": false
   },
   "outputs": [
    {
     "data": {
      "text/plain": [
       "0    Love Well made sturdy comfortable love itVery ...\n",
       "1    love great upgrade original Ive mine couple years\n",
       "2              pillow saved back love look feel pillow\n",
       "3          Missing information use great product price\n",
       "4                 nice set Good quality set two months\n",
       "Name: text_, dtype: object"
      ]
     },
     "execution_count": 21,
     "metadata": {},
     "output_type": "execute_result"
    }
   ],
   "source": [
    "df['text_'].head().apply(clean_text)"
   ]
  },
  {
   "cell_type": "code",
   "execution_count": 22,
   "id": "f203a426",
   "metadata": {},
   "outputs": [],
   "source": [
    "df['text_'] = df['text_'].astype(str)"
   ]
  },
  {
   "cell_type": "markdown",
   "id": "d7912cf0",
   "metadata": {},
   "source": [
    "#### Eliminating stopwords, digits and punctuation"
   ]
  },
  {
   "cell_type": "code",
   "execution_count": 23,
   "id": "559c0d4d",
   "metadata": {},
   "outputs": [],
   "source": [
    "def preprocess(text):\n",
    "    return ' '.join([word for word in word_tokenize(text) if word not in stopwords.words('english') and not word.isdigit() and word not in string.punctuation])"
   ]
  },
  {
   "cell_type": "code",
   "execution_count": 24,
   "id": "2b73482b",
   "metadata": {
    "scrolled": false
   },
   "outputs": [
    {
     "name": "stderr",
     "output_type": "stream",
     "text": [
      "[nltk_data] Downloading package omw-1.4 to\n",
      "[nltk_data]     C:\\Users\\Kpatel\\AppData\\Roaming\\nltk_data...\n",
      "[nltk_data]   Package omw-1.4 is already up-to-date!\n"
     ]
    },
    {
     "data": {
      "text/plain": [
       "True"
      ]
     },
     "execution_count": 24,
     "metadata": {},
     "output_type": "execute_result"
    }
   ],
   "source": [
    "nltk.download('omw-1.4')"
   ]
  },
  {
   "cell_type": "code",
   "execution_count": 25,
   "id": "2812f40e",
   "metadata": {
    "scrolled": false
   },
   "outputs": [
    {
     "name": "stderr",
     "output_type": "stream",
     "text": [
      "[nltk_data] Downloading package punkt to\n",
      "[nltk_data]     C:\\Users\\Kpatel\\AppData\\Roaming\\nltk_data...\n",
      "[nltk_data]   Package punkt is already up-to-date!\n"
     ]
    },
    {
     "data": {
      "text/plain": [
       "True"
      ]
     },
     "execution_count": 25,
     "metadata": {},
     "output_type": "execute_result"
    }
   ],
   "source": [
    "nltk.download('punkt')"
   ]
  },
  {
   "cell_type": "code",
   "execution_count": 26,
   "id": "c923ee8f",
   "metadata": {
    "scrolled": false
   },
   "outputs": [
    {
     "data": {
      "text/plain": [
       "'Very nice set Good quality We set two months'"
      ]
     },
     "execution_count": 26,
     "metadata": {},
     "output_type": "execute_result"
    }
   ],
   "source": [
    "preprocess(df['text_'][4])"
   ]
  },
  {
   "cell_type": "code",
   "execution_count": 27,
   "id": "ec6a4432",
   "metadata": {},
   "outputs": [],
   "source": [
    "df['text_'] = df['text_'].apply(preprocess)"
   ]
  },
  {
   "cell_type": "markdown",
   "id": "d05c6f1f",
   "metadata": {},
   "source": [
    "#### Transforming text to lower case"
   ]
  },
  {
   "cell_type": "code",
   "execution_count": 28,
   "id": "83e5ec60",
   "metadata": {},
   "outputs": [],
   "source": [
    "df['text_'] = df['text_'].str.lower()"
   ]
  },
  {
   "cell_type": "markdown",
   "id": "b0347bbc",
   "metadata": {},
   "source": [
    "#### Stemming"
   ]
  },
  {
   "cell_type": "code",
   "execution_count": 29,
   "id": "7ba49254",
   "metadata": {},
   "outputs": [],
   "source": [
    "stemmer = PorterStemmer()\n",
    "def stem_words(text):\n",
    "    return ' '.join([stemmer.stem(word) for word in text.split()])\n",
    "df['text_'] = df['text_'].apply(lambda x: stem_words(x))"
   ]
  },
  {
   "cell_type": "code",
   "execution_count": 30,
   "id": "f84016b5",
   "metadata": {
    "scrolled": false
   },
   "outputs": [
    {
     "name": "stderr",
     "output_type": "stream",
     "text": [
      "[nltk_data] Downloading package wordnet to\n",
      "[nltk_data]     C:\\Users\\Kpatel\\AppData\\Roaming\\nltk_data...\n",
      "[nltk_data]   Package wordnet is already up-to-date!\n"
     ]
    },
    {
     "data": {
      "text/plain": [
       "True"
      ]
     },
     "execution_count": 30,
     "metadata": {},
     "output_type": "execute_result"
    }
   ],
   "source": [
    "nltk.download('wordnet')"
   ]
  },
  {
   "cell_type": "markdown",
   "id": "ce1becb4",
   "metadata": {},
   "source": [
    "#### Lemmatizing\n",
    "\n",
    "The task of lemmatizer is to transform word with respect to morphological root word e.g.’bought’ lemmatized into ’buy’."
   ]
  },
  {
   "cell_type": "code",
   "execution_count": 31,
   "id": "15d0fb16",
   "metadata": {
    "scrolled": false
   },
   "outputs": [],
   "source": [
    "lemmatizer = WordNetLemmatizer()\n",
    "def lemmatize_words(text):\n",
    "    return ' '.join([lemmatizer.lemmatize(word) for word in text.split()])\n",
    "df[\"text_\"] = df[\"text_\"].apply(lambda text: lemmatize_words(text))"
   ]
  },
  {
   "cell_type": "code",
   "execution_count": 32,
   "id": "a718fbf2",
   "metadata": {
    "scrolled": false
   },
   "outputs": [
    {
     "data": {
      "text/plain": [
       "0    love well made sturdi comfort i love veri pretti\n",
       "1      love great upgrad origin i 've mine coupl year\n",
       "2        thi pillow save back i love look feel pillow\n",
       "3               miss inform use great product price i\n",
       "4         veri nice set good qualiti we set two month\n",
       "Name: text_, dtype: object"
      ]
     },
     "execution_count": 32,
     "metadata": {},
     "output_type": "execute_result"
    }
   ],
   "source": [
    "df['text_'].head()"
   ]
  },
  {
   "cell_type": "code",
   "execution_count": 33,
   "id": "55b84367",
   "metadata": {},
   "outputs": [],
   "source": [
    "df.to_csv('preprocessed_dataset_fake_review_detector.csv')"
   ]
  },
  {
   "cell_type": "markdown",
   "id": "147333b2",
   "metadata": {},
   "source": [
    "## Feature Extraction\n",
    "\n",
    "Feature Extraction or Feature Engineering is finding a numeric representation of text documents like reviews in this case. In some cases the extraction of counts feature work better and in others the tfidf representation is the best choice. Combining these two techniques helps in achieving better precision by using the full set of features(tfidf+counts)."
   ]
  },
  {
   "cell_type": "code",
   "execution_count": 34,
   "id": "a122a052",
   "metadata": {},
   "outputs": [],
   "source": [
    "from sklearn.feature_extraction.text import CountVectorizer, TfidfTransformer"
   ]
  },
  {
   "cell_type": "code",
   "execution_count": 35,
   "id": "b618d469",
   "metadata": {
    "scrolled": true
   },
   "outputs": [
    {
     "data": {
      "text/html": [
       "<div>\n",
       "<style scoped>\n",
       "    .dataframe tbody tr th:only-of-type {\n",
       "        vertical-align: middle;\n",
       "    }\n",
       "\n",
       "    .dataframe tbody tr th {\n",
       "        vertical-align: top;\n",
       "    }\n",
       "\n",
       "    .dataframe thead th {\n",
       "        text-align: right;\n",
       "    }\n",
       "</style>\n",
       "<table border=\"1\" class=\"dataframe\">\n",
       "  <thead>\n",
       "    <tr style=\"text-align: right;\">\n",
       "      <th></th>\n",
       "      <th>category</th>\n",
       "      <th>rating</th>\n",
       "      <th>label</th>\n",
       "      <th>text_</th>\n",
       "    </tr>\n",
       "  </thead>\n",
       "  <tbody>\n",
       "    <tr>\n",
       "      <th>0</th>\n",
       "      <td>Home_and_Kitchen_5</td>\n",
       "      <td>5.0</td>\n",
       "      <td>CG</td>\n",
       "      <td>love well made sturdi comfort i love veri pretti</td>\n",
       "    </tr>\n",
       "    <tr>\n",
       "      <th>1</th>\n",
       "      <td>Home_and_Kitchen_5</td>\n",
       "      <td>5.0</td>\n",
       "      <td>CG</td>\n",
       "      <td>love great upgrad origin i 've mine coupl year</td>\n",
       "    </tr>\n",
       "    <tr>\n",
       "      <th>2</th>\n",
       "      <td>Home_and_Kitchen_5</td>\n",
       "      <td>5.0</td>\n",
       "      <td>CG</td>\n",
       "      <td>thi pillow save back i love look feel pillow</td>\n",
       "    </tr>\n",
       "    <tr>\n",
       "      <th>3</th>\n",
       "      <td>Home_and_Kitchen_5</td>\n",
       "      <td>1.0</td>\n",
       "      <td>CG</td>\n",
       "      <td>miss inform use great product price i</td>\n",
       "    </tr>\n",
       "    <tr>\n",
       "      <th>4</th>\n",
       "      <td>Home_and_Kitchen_5</td>\n",
       "      <td>5.0</td>\n",
       "      <td>CG</td>\n",
       "      <td>veri nice set good qualiti we set two month</td>\n",
       "    </tr>\n",
       "  </tbody>\n",
       "</table>\n",
       "</div>"
      ],
      "text/plain": [
       "             category  rating label  \\\n",
       "0  Home_and_Kitchen_5     5.0    CG   \n",
       "1  Home_and_Kitchen_5     5.0    CG   \n",
       "2  Home_and_Kitchen_5     5.0    CG   \n",
       "3  Home_and_Kitchen_5     1.0    CG   \n",
       "4  Home_and_Kitchen_5     5.0    CG   \n",
       "\n",
       "                                              text_  \n",
       "0  love well made sturdi comfort i love veri pretti  \n",
       "1    love great upgrad origin i 've mine coupl year  \n",
       "2      thi pillow save back i love look feel pillow  \n",
       "3             miss inform use great product price i  \n",
       "4       veri nice set good qualiti we set two month  "
      ]
     },
     "execution_count": 35,
     "metadata": {},
     "output_type": "execute_result"
    }
   ],
   "source": [
    "df = pd.read_csv('preprocessed_dataset_fake_review_detector.csv')\n",
    "df.drop('Unnamed: 0',axis=1,inplace=True)\n",
    "df.head()"
   ]
  },
  {
   "cell_type": "markdown",
   "id": "e2e4ecb2",
   "metadata": {},
   "source": [
    "#### Vectorization \n",
    "Vectorization is the general process of turning a collection of text documents into numerical feature vectors. This specific strategy (tokenization, counting and normalization) is called the Bag of Words."
   ]
  },
  {
   "cell_type": "code",
   "execution_count": 36,
   "id": "b4d63bb8",
   "metadata": {
    "scrolled": true
   },
   "outputs": [
    {
     "name": "stdout",
     "output_type": "stream",
     "text": [
      "20\n"
     ]
    }
   ],
   "source": [
    "vectorizer = CountVectorizer(analyzer='word')\n",
    "count_vectorized = vectorizer.fit_transform(df['text_'][20:24].values.astype('U'))\n",
    "print(len(vectorizer.get_feature_names_out()))"
   ]
  },
  {
   "cell_type": "code",
   "execution_count": 37,
   "id": "c0705049",
   "metadata": {},
   "outputs": [
    {
     "data": {
      "text/html": [
       "<div>\n",
       "<style scoped>\n",
       "    .dataframe tbody tr th:only-of-type {\n",
       "        vertical-align: middle;\n",
       "    }\n",
       "\n",
       "    .dataframe tbody tr th {\n",
       "        vertical-align: top;\n",
       "    }\n",
       "\n",
       "    .dataframe thead th {\n",
       "        text-align: right;\n",
       "    }\n",
       "</style>\n",
       "<table border=\"1\" class=\"dataframe\">\n",
       "  <thead>\n",
       "    <tr style=\"text-align: right;\">\n",
       "      <th></th>\n",
       "      <th>advertis</th>\n",
       "      <th>also</th>\n",
       "      <th>color</th>\n",
       "      <th>dimens</th>\n",
       "      <th>easi</th>\n",
       "      <th>egg</th>\n",
       "      <th>exactli</th>\n",
       "      <th>fantast</th>\n",
       "      <th>feel</th>\n",
       "      <th>great</th>\n",
       "      <th>littl</th>\n",
       "      <th>look</th>\n",
       "      <th>love</th>\n",
       "      <th>masher</th>\n",
       "      <th>month</th>\n",
       "      <th>pictur</th>\n",
       "      <th>pillow</th>\n",
       "      <th>use</th>\n",
       "      <th>want</th>\n",
       "      <th>we</th>\n",
       "    </tr>\n",
       "  </thead>\n",
       "  <tbody>\n",
       "    <tr>\n",
       "      <th>review 20</th>\n",
       "      <td>0</td>\n",
       "      <td>0</td>\n",
       "      <td>0</td>\n",
       "      <td>0</td>\n",
       "      <td>0</td>\n",
       "      <td>1</td>\n",
       "      <td>0</td>\n",
       "      <td>0</td>\n",
       "      <td>0</td>\n",
       "      <td>1</td>\n",
       "      <td>1</td>\n",
       "      <td>0</td>\n",
       "      <td>0</td>\n",
       "      <td>1</td>\n",
       "      <td>1</td>\n",
       "      <td>0</td>\n",
       "      <td>0</td>\n",
       "      <td>0</td>\n",
       "      <td>0</td>\n",
       "      <td>1</td>\n",
       "    </tr>\n",
       "    <tr>\n",
       "      <th>review 21</th>\n",
       "      <td>1</td>\n",
       "      <td>1</td>\n",
       "      <td>1</td>\n",
       "      <td>1</td>\n",
       "      <td>1</td>\n",
       "      <td>0</td>\n",
       "      <td>0</td>\n",
       "      <td>0</td>\n",
       "      <td>0</td>\n",
       "      <td>0</td>\n",
       "      <td>0</td>\n",
       "      <td>0</td>\n",
       "      <td>1</td>\n",
       "      <td>0</td>\n",
       "      <td>0</td>\n",
       "      <td>0</td>\n",
       "      <td>0</td>\n",
       "      <td>1</td>\n",
       "      <td>0</td>\n",
       "      <td>0</td>\n",
       "    </tr>\n",
       "    <tr>\n",
       "      <th>review 22</th>\n",
       "      <td>0</td>\n",
       "      <td>0</td>\n",
       "      <td>0</td>\n",
       "      <td>0</td>\n",
       "      <td>0</td>\n",
       "      <td>0</td>\n",
       "      <td>1</td>\n",
       "      <td>0</td>\n",
       "      <td>1</td>\n",
       "      <td>0</td>\n",
       "      <td>0</td>\n",
       "      <td>1</td>\n",
       "      <td>1</td>\n",
       "      <td>0</td>\n",
       "      <td>0</td>\n",
       "      <td>1</td>\n",
       "      <td>1</td>\n",
       "      <td>0</td>\n",
       "      <td>0</td>\n",
       "      <td>0</td>\n",
       "    </tr>\n",
       "    <tr>\n",
       "      <th>review 23</th>\n",
       "      <td>0</td>\n",
       "      <td>0</td>\n",
       "      <td>0</td>\n",
       "      <td>0</td>\n",
       "      <td>0</td>\n",
       "      <td>0</td>\n",
       "      <td>0</td>\n",
       "      <td>1</td>\n",
       "      <td>1</td>\n",
       "      <td>0</td>\n",
       "      <td>0</td>\n",
       "      <td>1</td>\n",
       "      <td>1</td>\n",
       "      <td>0</td>\n",
       "      <td>0</td>\n",
       "      <td>0</td>\n",
       "      <td>1</td>\n",
       "      <td>0</td>\n",
       "      <td>1</td>\n",
       "      <td>0</td>\n",
       "    </tr>\n",
       "  </tbody>\n",
       "</table>\n",
       "</div>"
      ],
      "text/plain": [
       "           advertis  also  color  dimens  easi  egg  exactli  fantast  feel  \\\n",
       "review 20         0     0      0       0     0    1        0        0     0   \n",
       "review 21         1     1      1       1     1    0        0        0     0   \n",
       "review 22         0     0      0       0     0    0        1        0     1   \n",
       "review 23         0     0      0       0     0    0        0        1     1   \n",
       "\n",
       "           great  littl  look  love  masher  month  pictur  pillow  use  want  \\\n",
       "review 20      1      1     0     0       1      1       0       0    0     0   \n",
       "review 21      0      0     0     1       0      0       0       0    1     0   \n",
       "review 22      0      0     1     1       0      0       1       1    0     0   \n",
       "review 23      0      0     1     1       0      0       0       1    0     1   \n",
       "\n",
       "           we  \n",
       "review 20   1  \n",
       "review 21   0  \n",
       "review 22   0  \n",
       "review 23   0  "
      ]
     },
     "execution_count": 37,
     "metadata": {},
     "output_type": "execute_result"
    }
   ],
   "source": [
    "pd.DataFrame(count_vectorized.toarray(), \n",
    "             index=['review '+str(i) \n",
    "                    for i in range(20, 24)],\n",
    "             columns=vectorizer.get_feature_names_out())"
   ]
  },
  {
   "cell_type": "markdown",
   "id": "bb7b8c63",
   "metadata": {},
   "source": [
    "#### TF-IDF \n",
    "TF-IDF is the importance of a term which is inversely related to its frequency across documents.TF gives us information on how often a term appears in a document and IDF gives us information about the relative rarity of a term in the collection of documents."
   ]
  },
  {
   "cell_type": "code",
   "execution_count": 38,
   "id": "2bebf154",
   "metadata": {},
   "outputs": [],
   "source": [
    "tfidf_transformer = TfidfTransformer(smooth_idf=True, use_idf=True)\n",
    "tfidf_vectorized = tfidf_transformer.fit_transform(count_vectorized)"
   ]
  },
  {
   "cell_type": "code",
   "execution_count": 39,
   "id": "00b6d816",
   "metadata": {
    "scrolled": false
   },
   "outputs": [
    {
     "data": {
      "text/html": [
       "<div>\n",
       "<style scoped>\n",
       "    .dataframe tbody tr th:only-of-type {\n",
       "        vertical-align: middle;\n",
       "    }\n",
       "\n",
       "    .dataframe tbody tr th {\n",
       "        vertical-align: top;\n",
       "    }\n",
       "\n",
       "    .dataframe thead th {\n",
       "        text-align: right;\n",
       "    }\n",
       "</style>\n",
       "<table border=\"1\" class=\"dataframe\">\n",
       "  <thead>\n",
       "    <tr style=\"text-align: right;\">\n",
       "      <th></th>\n",
       "      <th>advertis</th>\n",
       "      <th>also</th>\n",
       "      <th>color</th>\n",
       "      <th>dimens</th>\n",
       "      <th>easi</th>\n",
       "      <th>egg</th>\n",
       "      <th>exactli</th>\n",
       "      <th>fantast</th>\n",
       "      <th>feel</th>\n",
       "      <th>great</th>\n",
       "      <th>littl</th>\n",
       "      <th>look</th>\n",
       "      <th>love</th>\n",
       "      <th>masher</th>\n",
       "      <th>month</th>\n",
       "      <th>pictur</th>\n",
       "      <th>pillow</th>\n",
       "      <th>use</th>\n",
       "      <th>want</th>\n",
       "      <th>we</th>\n",
       "    </tr>\n",
       "  </thead>\n",
       "  <tbody>\n",
       "    <tr>\n",
       "      <th>review 20</th>\n",
       "      <td>0.000000</td>\n",
       "      <td>0.000000</td>\n",
       "      <td>0.000000</td>\n",
       "      <td>0.000000</td>\n",
       "      <td>0.000000</td>\n",
       "      <td>0.408248</td>\n",
       "      <td>0.00000</td>\n",
       "      <td>0.00000</td>\n",
       "      <td>0.000000</td>\n",
       "      <td>0.408248</td>\n",
       "      <td>0.408248</td>\n",
       "      <td>0.000000</td>\n",
       "      <td>0.000000</td>\n",
       "      <td>0.408248</td>\n",
       "      <td>0.408248</td>\n",
       "      <td>0.00000</td>\n",
       "      <td>0.000000</td>\n",
       "      <td>0.000000</td>\n",
       "      <td>0.00000</td>\n",
       "      <td>0.408248</td>\n",
       "    </tr>\n",
       "    <tr>\n",
       "      <th>review 21</th>\n",
       "      <td>0.395056</td>\n",
       "      <td>0.395056</td>\n",
       "      <td>0.395056</td>\n",
       "      <td>0.395056</td>\n",
       "      <td>0.395056</td>\n",
       "      <td>0.000000</td>\n",
       "      <td>0.00000</td>\n",
       "      <td>0.00000</td>\n",
       "      <td>0.000000</td>\n",
       "      <td>0.000000</td>\n",
       "      <td>0.000000</td>\n",
       "      <td>0.000000</td>\n",
       "      <td>0.252159</td>\n",
       "      <td>0.000000</td>\n",
       "      <td>0.000000</td>\n",
       "      <td>0.00000</td>\n",
       "      <td>0.000000</td>\n",
       "      <td>0.395056</td>\n",
       "      <td>0.00000</td>\n",
       "      <td>0.000000</td>\n",
       "    </tr>\n",
       "    <tr>\n",
       "      <th>review 22</th>\n",
       "      <td>0.000000</td>\n",
       "      <td>0.000000</td>\n",
       "      <td>0.000000</td>\n",
       "      <td>0.000000</td>\n",
       "      <td>0.000000</td>\n",
       "      <td>0.000000</td>\n",
       "      <td>0.48381</td>\n",
       "      <td>0.00000</td>\n",
       "      <td>0.381441</td>\n",
       "      <td>0.000000</td>\n",
       "      <td>0.000000</td>\n",
       "      <td>0.381441</td>\n",
       "      <td>0.308810</td>\n",
       "      <td>0.000000</td>\n",
       "      <td>0.000000</td>\n",
       "      <td>0.48381</td>\n",
       "      <td>0.381441</td>\n",
       "      <td>0.000000</td>\n",
       "      <td>0.00000</td>\n",
       "      <td>0.000000</td>\n",
       "    </tr>\n",
       "    <tr>\n",
       "      <th>review 23</th>\n",
       "      <td>0.000000</td>\n",
       "      <td>0.000000</td>\n",
       "      <td>0.000000</td>\n",
       "      <td>0.000000</td>\n",
       "      <td>0.000000</td>\n",
       "      <td>0.000000</td>\n",
       "      <td>0.00000</td>\n",
       "      <td>0.48381</td>\n",
       "      <td>0.381441</td>\n",
       "      <td>0.000000</td>\n",
       "      <td>0.000000</td>\n",
       "      <td>0.381441</td>\n",
       "      <td>0.308810</td>\n",
       "      <td>0.000000</td>\n",
       "      <td>0.000000</td>\n",
       "      <td>0.00000</td>\n",
       "      <td>0.381441</td>\n",
       "      <td>0.000000</td>\n",
       "      <td>0.48381</td>\n",
       "      <td>0.000000</td>\n",
       "    </tr>\n",
       "  </tbody>\n",
       "</table>\n",
       "</div>"
      ],
      "text/plain": [
       "           advertis      also     color    dimens      easi       egg  \\\n",
       "review 20  0.000000  0.000000  0.000000  0.000000  0.000000  0.408248   \n",
       "review 21  0.395056  0.395056  0.395056  0.395056  0.395056  0.000000   \n",
       "review 22  0.000000  0.000000  0.000000  0.000000  0.000000  0.000000   \n",
       "review 23  0.000000  0.000000  0.000000  0.000000  0.000000  0.000000   \n",
       "\n",
       "           exactli  fantast      feel     great     littl      look      love  \\\n",
       "review 20  0.00000  0.00000  0.000000  0.408248  0.408248  0.000000  0.000000   \n",
       "review 21  0.00000  0.00000  0.000000  0.000000  0.000000  0.000000  0.252159   \n",
       "review 22  0.48381  0.00000  0.381441  0.000000  0.000000  0.381441  0.308810   \n",
       "review 23  0.00000  0.48381  0.381441  0.000000  0.000000  0.381441  0.308810   \n",
       "\n",
       "             masher     month   pictur    pillow       use     want        we  \n",
       "review 20  0.408248  0.408248  0.00000  0.000000  0.000000  0.00000  0.408248  \n",
       "review 21  0.000000  0.000000  0.00000  0.000000  0.395056  0.00000  0.000000  \n",
       "review 22  0.000000  0.000000  0.48381  0.381441  0.000000  0.00000  0.000000  \n",
       "review 23  0.000000  0.000000  0.00000  0.381441  0.000000  0.48381  0.000000  "
      ]
     },
     "execution_count": 39,
     "metadata": {},
     "output_type": "execute_result"
    }
   ],
   "source": [
    "pd.DataFrame(tfidf_vectorized.toarray(), \n",
    "             index=['review '+str(i) \n",
    "                    for i in range(20,24)],\n",
    "             columns=vectorizer.get_feature_names_out())"
   ]
  },
  {
   "cell_type": "code",
   "execution_count": 40,
   "id": "da5a764f",
   "metadata": {
    "scrolled": true
   },
   "outputs": [
    {
     "name": "stdout",
     "output_type": "stream",
     "text": [
      "29491\n"
     ]
    }
   ],
   "source": [
    "count_vectorized = vectorizer.fit_transform(df['text_'].values.astype('U'))\n",
    "print(len(vectorizer.get_feature_names_out()))"
   ]
  },
  {
   "cell_type": "code",
   "execution_count": 41,
   "id": "79d854ba",
   "metadata": {},
   "outputs": [],
   "source": [
    "tfidf_transformer = TfidfTransformer(smooth_idf=True, use_idf=True)\n",
    "vectorized = tfidf_transformer.fit_transform(count_vectorized)"
   ]
  },
  {
   "cell_type": "code",
   "execution_count": 42,
   "id": "7642c148",
   "metadata": {
    "scrolled": false
   },
   "outputs": [
    {
     "name": "stdout",
     "output_type": "stream",
     "text": [
      "Number of non zero tokens in the countvectorize (bag of words) model: 1082662\n"
     ]
    }
   ],
   "source": [
    "print(\"Number of non zero tokens in the countvectorize (bag of words) model:\",count_vectorized.nnz)"
   ]
  },
  {
   "cell_type": "code",
   "execution_count": 43,
   "id": "59558202",
   "metadata": {
    "scrolled": false
   },
   "outputs": [
    {
     "name": "stdout",
     "output_type": "stream",
     "text": [
      "Inverse document-frequency of word 'poor'-  6.054145145957571\n",
      "Inverse document-frequency of word 'love'-  2.258394689638233\n",
      "Inverse document-frequency of word 'hate'-  5.997632935694228\n",
      "Inverse document-frequency of word 'good'-  2.4470055753397517\n",
      "Inverse document-frequency of word 'quality'-  6.962713831737815\n"
     ]
    }
   ],
   "source": [
    "cv = vectorizer.fit(df['text_'].values.astype('U'))\n",
    "print(\"Inverse document-frequency of word 'poor'- \",tfidf_transformer.idf_[cv.vocabulary_['poor']])\n",
    "print(\"Inverse document-frequency of word 'love'- \",tfidf_transformer.idf_[cv.vocabulary_['love']])\n",
    "print(\"Inverse document-frequency of word 'hate'- \",tfidf_transformer.idf_[cv.vocabulary_['hate']])\n",
    "print(\"Inverse document-frequency of word 'good'- \",tfidf_transformer.idf_[cv.vocabulary_['good']])\n",
    "print(\"Inverse document-frequency of word 'quality'- \",tfidf_transformer.idf_[cv.vocabulary_['quality']])"
   ]
  },
  {
   "cell_type": "markdown",
   "id": "459bbbbf",
   "metadata": {},
   "source": [
    "### Sentiment Analysis"
   ]
  },
  {
   "cell_type": "code",
   "execution_count": 44,
   "id": "a5bdb18e",
   "metadata": {
    "scrolled": true
   },
   "outputs": [
    {
     "name": "stderr",
     "output_type": "stream",
     "text": [
      "[nltk_data] Downloading package vader_lexicon to\n",
      "[nltk_data]     C:\\Users\\Kpatel\\AppData\\Roaming\\nltk_data...\n",
      "[nltk_data]   Package vader_lexicon is already up-to-date!\n"
     ]
    },
    {
     "data": {
      "text/plain": [
       "True"
      ]
     },
     "execution_count": 44,
     "metadata": {},
     "output_type": "execute_result"
    }
   ],
   "source": [
    "from nltk.sentiment.vader import SentimentIntensityAnalyzer\n",
    "nltk.download('vader_lexicon')"
   ]
  },
  {
   "cell_type": "code",
   "execution_count": 45,
   "id": "cc8e85bc",
   "metadata": {},
   "outputs": [
    {
     "name": "stdout",
     "output_type": "stream",
     "text": [
      "love well made sturdi comfort i love veri pretti\n",
      "compound: 0.9186, neg: 0.0, neu: 0.235, pos: 0.765, \n",
      "love great upgrad origin i 've mine coupl year\n",
      "compound: 0.8519, neg: 0.0, neu: 0.42, pos: 0.58, \n",
      "thi pillow save back i love look feel pillow\n",
      "compound: 0.8126, neg: 0.0, neu: 0.448, pos: 0.552, \n",
      "miss inform use great product price i\n",
      "compound: 0.5423, neg: 0.165, neu: 0.412, pos: 0.423, \n",
      "veri nice set good qualiti we set two month\n",
      "compound: 0.6908, neg: 0.0, neu: 0.551, pos: 0.449, \n"
     ]
    }
   ],
   "source": [
    "for review in df['text_'][0:5].values.astype('U'):\n",
    "    print(review)\n",
    "    sid = SentimentIntensityAnalyzer()\n",
    "    ss = sid.polarity_scores(review)\n",
    "    for k in sorted(ss):\n",
    "        print('{0}: {1}, '.format(k, ss[k]), end='')\n",
    "    print()"
   ]
  },
  {
   "cell_type": "code",
   "execution_count": 46,
   "id": "02957221",
   "metadata": {},
   "outputs": [
    {
     "name": "stdout",
     "output_type": "stream",
     "text": [
      "Requirement already satisfied: wordcloud in c:\\users\\kpatel\\anaconda3\\lib\\site-packages (1.8.2.2)\n",
      "Requirement already satisfied: pillow in c:\\users\\kpatel\\anaconda3\\lib\\site-packages (from wordcloud) (9.0.1)\n",
      "Requirement already satisfied: matplotlib in c:\\users\\kpatel\\anaconda3\\lib\\site-packages (from wordcloud) (3.5.1)\n",
      "Requirement already satisfied: numpy>=1.6.1 in c:\\users\\kpatel\\anaconda3\\lib\\site-packages (from wordcloud) (1.21.5)\n",
      "Requirement already satisfied: cycler>=0.10 in c:\\users\\kpatel\\anaconda3\\lib\\site-packages (from matplotlib->wordcloud) (0.11.0)\n",
      "Requirement already satisfied: kiwisolver>=1.0.1 in c:\\users\\kpatel\\anaconda3\\lib\\site-packages (from matplotlib->wordcloud) (1.3.2)\n",
      "Requirement already satisfied: packaging>=20.0 in c:\\users\\kpatel\\anaconda3\\lib\\site-packages (from matplotlib->wordcloud) (21.3)\n",
      "Requirement already satisfied: pyparsing>=2.2.1 in c:\\users\\kpatel\\anaconda3\\lib\\site-packages (from matplotlib->wordcloud) (3.0.4)\n",
      "Requirement already satisfied: python-dateutil>=2.7 in c:\\users\\kpatel\\anaconda3\\lib\\site-packages (from matplotlib->wordcloud) (2.8.2)\n",
      "Requirement already satisfied: fonttools>=4.22.0 in c:\\users\\kpatel\\anaconda3\\lib\\site-packages (from matplotlib->wordcloud) (4.25.0)\n",
      "Requirement already satisfied: six>=1.5 in c:\\users\\kpatel\\anaconda3\\lib\\site-packages (from python-dateutil>=2.7->matplotlib->wordcloud) (1.16.0)\n",
      "Note: you may need to restart the kernel to use updated packages.\n"
     ]
    }
   ],
   "source": [
    "%pip install wordcloud"
   ]
  },
  {
   "cell_type": "code",
   "execution_count": 47,
   "id": "ce0176eb",
   "metadata": {
    "scrolled": true
   },
   "outputs": [
    {
     "data": {
      "image/png": "[encoded data removed]",
      "text/plain": [
       "<Figure size 720x720 with 1 Axes>"
      ]
     },
     "metadata": {},
     "output_type": "display_data"
    }
   ],
   "source": [
    "# wordcloud function to show which words occur the most\n",
    "\n",
    "from wordcloud import WordCloud\n",
    "import matplotlib.pyplot as plt\n",
    "\n",
    "def show_wordcloud(data, title = None):\n",
    "    wordcloud = WordCloud(\n",
    "        background_color = 'white',\n",
    "        max_words = 200,\n",
    "        max_font_size = 40, \n",
    "        scale = 3,\n",
    "        random_state = 42\n",
    "    ).generate(str(data))\n",
    "\n",
    "    fig = plt.figure(1, figsize = (10, 10))\n",
    "    plt.axis('off')\n",
    "    if title: \n",
    "        fig.suptitle(title, fontsize = 20)\n",
    "        fig.subplots_adjust(top = 2.3)\n",
    "\n",
    "    plt.imshow(wordcloud)\n",
    "    plt.show()\n",
    "    \n",
    "# print wordcloud\n",
    "show_wordcloud(df['text_'])\n"
   ]
  },
  {
   "cell_type": "markdown",
   "id": "eb061966",
   "metadata": {},
   "source": [
    "#### Splitting Test dataset and Train dataset"
   ]
  },
  {
   "cell_type": "code",
   "execution_count": 59,
   "id": "31953227",
   "metadata": {},
   "outputs": [],
   "source": [
    "from sklearn.model_selection import train_test_split, GridSearchCV\n",
    "from sklearn.metrics import classification_report, confusion_matrix, accuracy_score\n",
    "from sklearn.metrics import precision_score, recall_score, f1_score\n",
    "from sklearn.naive_bayes import MultinomialNB\n",
    "from sklearn.pipeline import Pipeline"
   ]
  },
  {
   "cell_type": "code",
   "execution_count": 60,
   "id": "94ae001e",
   "metadata": {
    "scrolled": true
   },
   "outputs": [],
   "source": [
    "X_train, X_test, y_train, y_test = train_test_split(df['text_'].values.astype('U'),df['label'].values.astype('U'),test_size=0.40)"
   ]
  },
  {
   "cell_type": "code",
   "execution_count": 72,
   "id": "6ae3aa56",
   "metadata": {},
   "outputs": [
    {
     "data": {
      "image/png": "[encoded data removed]",
      "text/plain": [
       "<Figure size 300x300 with 1 Axes>"
      ]
     },
     "metadata": {},
     "output_type": "display_data"
    }
   ],
   "source": [
    "names = ['training set', 'testing set']\n",
    "values = [len(X_train), len(X_test)]\n",
    "\n",
    "\n",
    "plt.figure(figsize=(3, 3))\n",
    "plt.bar(names, values)\n",
    "plt.show()\n"
   ]
  },
  {
   "cell_type": "markdown",
   "id": "16fadb9f",
   "metadata": {},
   "source": [
    "#### Training and testing Multinomial Naive Bayes Algorithm on the preprocessed data"
   ]
  },
  {
   "cell_type": "code",
   "execution_count": 50,
   "id": "b20d7659",
   "metadata": {},
   "outputs": [],
   "source": [
    "pipeline = Pipeline([\n",
    "    ('cv',CountVectorizer()),\n",
    "    ('tfidf',TfidfTransformer()),\n",
    "    ('classifier',MultinomialNB())\n",
    "])"
   ]
  },
  {
   "cell_type": "code",
   "execution_count": 51,
   "id": "8135db17",
   "metadata": {
    "scrolled": true
   },
   "outputs": [
    {
     "data": {
      "text/plain": [
       "Pipeline(steps=[('cv', CountVectorizer()), ('tfidf', TfidfTransformer()),\n",
       "                ('classifier', MultinomialNB())])"
      ]
     },
     "execution_count": 51,
     "metadata": {},
     "output_type": "execute_result"
    }
   ],
   "source": [
    "pipeline.fit(X_train,y_train)"
   ]
  },
  {
   "cell_type": "code",
   "execution_count": 52,
   "id": "015154e3",
   "metadata": {
    "scrolled": false
   },
   "outputs": [
    {
     "data": {
      "text/plain": [
       "array(['OR', 'OR', 'CG', ..., 'OR', 'OR', 'CG'], dtype='<U2')"
      ]
     },
     "execution_count": 52,
     "metadata": {},
     "output_type": "execute_result"
    }
   ],
   "source": [
    "mnb_pred = pipeline.predict(X_test)\n",
    "mnb_pred"
   ]
  },
  {
   "cell_type": "markdown",
   "id": "d6b4403b",
   "metadata": {},
   "source": [
    "Accuracy is a ratio of correctly predicted observation to the total observations. \n",
    "High precision relates to the low false positive rate. Recall is the ratio of correctly predicted positive observations to the all observations in actual class - yes. F1 Score is the weighted average of Precision and Recall."
   ]
  },
  {
   "cell_type": "code",
   "execution_count": 53,
   "id": "8ee7e4fe",
   "metadata": {},
   "outputs": [
    {
     "data": {
      "text/html": [
       "<div>\n",
       "<style scoped>\n",
       "    .dataframe tbody tr th:only-of-type {\n",
       "        vertical-align: middle;\n",
       "    }\n",
       "\n",
       "    .dataframe tbody tr th {\n",
       "        vertical-align: top;\n",
       "    }\n",
       "\n",
       "    .dataframe thead th {\n",
       "        text-align: right;\n",
       "    }\n",
       "</style>\n",
       "<table border=\"1\" class=\"dataframe\">\n",
       "  <thead>\n",
       "    <tr style=\"text-align: right;\">\n",
       "      <th></th>\n",
       "      <th>precision</th>\n",
       "      <th>recall</th>\n",
       "      <th>f1-score</th>\n",
       "      <th>support</th>\n",
       "    </tr>\n",
       "  </thead>\n",
       "  <tbody>\n",
       "    <tr>\n",
       "      <th>CG</th>\n",
       "      <td>0.821062</td>\n",
       "      <td>0.899123</td>\n",
       "      <td>0.858322</td>\n",
       "      <td>8099.000000</td>\n",
       "    </tr>\n",
       "    <tr>\n",
       "      <th>OR</th>\n",
       "      <td>0.888067</td>\n",
       "      <td>0.803321</td>\n",
       "      <td>0.843571</td>\n",
       "      <td>8069.000000</td>\n",
       "    </tr>\n",
       "    <tr>\n",
       "      <th>accuracy</th>\n",
       "      <td>0.851311</td>\n",
       "      <td>0.851311</td>\n",
       "      <td>0.851311</td>\n",
       "      <td>0.851311</td>\n",
       "    </tr>\n",
       "    <tr>\n",
       "      <th>macro avg</th>\n",
       "      <td>0.854564</td>\n",
       "      <td>0.851222</td>\n",
       "      <td>0.850946</td>\n",
       "      <td>16168.000000</td>\n",
       "    </tr>\n",
       "    <tr>\n",
       "      <th>weighted avg</th>\n",
       "      <td>0.854502</td>\n",
       "      <td>0.851311</td>\n",
       "      <td>0.850960</td>\n",
       "      <td>16168.000000</td>\n",
       "    </tr>\n",
       "  </tbody>\n",
       "</table>\n",
       "</div>"
      ],
      "text/plain": [
       "              precision    recall  f1-score       support\n",
       "CG             0.821062  0.899123  0.858322   8099.000000\n",
       "OR             0.888067  0.803321  0.843571   8069.000000\n",
       "accuracy       0.851311  0.851311  0.851311      0.851311\n",
       "macro avg      0.854564  0.851222  0.850946  16168.000000\n",
       "weighted avg   0.854502  0.851311  0.850960  16168.000000"
      ]
     },
     "execution_count": 53,
     "metadata": {},
     "output_type": "execute_result"
    }
   ],
   "source": [
    "mnb_cr = classification_report(y_test,mnb_pred, output_dict=True)\n",
    "mnb_cm = confusion_matrix(y_test,mnb_pred)\n",
    "mnb_as = accuracy_score(y_test,mnb_pred)\n",
    "mnb_mpa = str(np.round(accuracy_score(y_test,mnb_pred)*100,2)) + '%'\n",
    "\n",
    "# Classification Report\n",
    "pd.DataFrame(mnb_cr).T"
   ]
  },
  {
   "cell_type": "code",
   "execution_count": 54,
   "id": "cd73dc22",
   "metadata": {},
   "outputs": [
    {
     "name": "stdout",
     "output_type": "stream",
     "text": [
      "Confusion Matrix: [[7282  817]\n",
      " [1587 6482]]\n"
     ]
    }
   ],
   "source": [
    "print('Confusion Matrix:',mnb_cm)"
   ]
  },
  {
   "cell_type": "code",
   "execution_count": 55,
   "id": "2c9aff1b",
   "metadata": {},
   "outputs": [
    {
     "name": "stdout",
     "output_type": "stream",
     "text": [
      "Accuracy Score: 0.851311232063335\n",
      "Model Prediction Accuracy: 85.13%\n"
     ]
    }
   ],
   "source": [
    "print('Accuracy Score:',mnb_as)\n",
    "print('Model Prediction Accuracy:',mnb_mpa)"
   ]
  },
  {
   "cell_type": "markdown",
   "id": "ac859e85",
   "metadata": {},
   "source": [
    "#### Training and testing Support Vector Machine Algorithm on the preprocessed data"
   ]
  },
  {
   "cell_type": "code",
   "execution_count": 56,
   "id": "7601d0e1",
   "metadata": {},
   "outputs": [],
   "source": [
    "from sklearn.svm import SVC"
   ]
  },
  {
   "cell_type": "code",
   "execution_count": 57,
   "id": "c7070b85",
   "metadata": {},
   "outputs": [],
   "source": [
    "pipeline = Pipeline([\n",
    "    ('cv',CountVectorizer()),\n",
    "    ('tfidf',TfidfTransformer()),\n",
    "    ('classifier',SVC())\n",
    "])"
   ]
  },
  {
   "cell_type": "code",
   "execution_count": 58,
   "id": "1656136b",
   "metadata": {
    "scrolled": true
   },
   "outputs": [
    {
     "data": {
      "text/plain": [
       "Pipeline(steps=[('cv', CountVectorizer()), ('tfidf', TfidfTransformer()),\n",
       "                ('classifier', SVC())])"
      ]
     },
     "execution_count": 58,
     "metadata": {},
     "output_type": "execute_result"
    }
   ],
   "source": [
    "pipeline.fit(X_train,y_train)"
   ]
  },
  {
   "cell_type": "code",
   "execution_count": 59,
   "id": "9e7b8c29",
   "metadata": {
    "scrolled": true
   },
   "outputs": [
    {
     "data": {
      "text/plain": [
       "array(['OR', 'OR', 'CG', ..., 'OR', 'OR', 'OR'], dtype='<U2')"
      ]
     },
     "execution_count": 59,
     "metadata": {},
     "output_type": "execute_result"
    }
   ],
   "source": [
    "svc_pred = pipeline.predict(X_test)\n",
    "svc_pred"
   ]
  },
  {
   "cell_type": "code",
   "execution_count": 60,
   "id": "b9cc8e68",
   "metadata": {
    "scrolled": true
   },
   "outputs": [
    {
     "data": {
      "text/html": [
       "<div>\n",
       "<style scoped>\n",
       "    .dataframe tbody tr th:only-of-type {\n",
       "        vertical-align: middle;\n",
       "    }\n",
       "\n",
       "    .dataframe tbody tr th {\n",
       "        vertical-align: top;\n",
       "    }\n",
       "\n",
       "    .dataframe thead th {\n",
       "        text-align: right;\n",
       "    }\n",
       "</style>\n",
       "<table border=\"1\" class=\"dataframe\">\n",
       "  <thead>\n",
       "    <tr style=\"text-align: right;\">\n",
       "      <th></th>\n",
       "      <th>precision</th>\n",
       "      <th>recall</th>\n",
       "      <th>f1-score</th>\n",
       "      <th>support</th>\n",
       "    </tr>\n",
       "  </thead>\n",
       "  <tbody>\n",
       "    <tr>\n",
       "      <th>CG</th>\n",
       "      <td>0.909738</td>\n",
       "      <td>0.867391</td>\n",
       "      <td>0.888060</td>\n",
       "      <td>8099.000000</td>\n",
       "    </tr>\n",
       "    <tr>\n",
       "      <th>OR</th>\n",
       "      <td>0.872839</td>\n",
       "      <td>0.913620</td>\n",
       "      <td>0.892764</td>\n",
       "      <td>8069.000000</td>\n",
       "    </tr>\n",
       "    <tr>\n",
       "      <th>accuracy</th>\n",
       "      <td>0.890463</td>\n",
       "      <td>0.890463</td>\n",
       "      <td>0.890463</td>\n",
       "      <td>0.890463</td>\n",
       "    </tr>\n",
       "    <tr>\n",
       "      <th>macro avg</th>\n",
       "      <td>0.891289</td>\n",
       "      <td>0.890506</td>\n",
       "      <td>0.890412</td>\n",
       "      <td>16168.000000</td>\n",
       "    </tr>\n",
       "    <tr>\n",
       "      <th>weighted avg</th>\n",
       "      <td>0.891323</td>\n",
       "      <td>0.890463</td>\n",
       "      <td>0.890408</td>\n",
       "      <td>16168.000000</td>\n",
       "    </tr>\n",
       "  </tbody>\n",
       "</table>\n",
       "</div>"
      ],
      "text/plain": [
       "              precision    recall  f1-score       support\n",
       "CG             0.909738  0.867391  0.888060   8099.000000\n",
       "OR             0.872839  0.913620  0.892764   8069.000000\n",
       "accuracy       0.890463  0.890463  0.890463      0.890463\n",
       "macro avg      0.891289  0.890506  0.890412  16168.000000\n",
       "weighted avg   0.891323  0.890463  0.890408  16168.000000"
      ]
     },
     "execution_count": 60,
     "metadata": {},
     "output_type": "execute_result"
    }
   ],
   "source": [
    "svc_cr = classification_report(y_test,svc_pred,output_dict=True)\n",
    "svc_cm = confusion_matrix(y_test,svc_pred)\n",
    "svc_as = accuracy_score(y_test,svc_pred)\n",
    "svc_mpa = str(np.round(accuracy_score(y_test,svc_pred)*100,2)) + '%'\n",
    "\n",
    "# Classification Report\n",
    "pd.DataFrame(svc_cr).T"
   ]
  },
  {
   "cell_type": "code",
   "execution_count": 61,
   "id": "ea4aeb58",
   "metadata": {},
   "outputs": [
    {
     "name": "stdout",
     "output_type": "stream",
     "text": [
      "Confusion Matrix: [[7025 1074]\n",
      " [ 697 7372]]\n"
     ]
    }
   ],
   "source": [
    "print('Confusion Matrix:',svc_cm)"
   ]
  },
  {
   "cell_type": "code",
   "execution_count": 62,
   "id": "84c70d9c",
   "metadata": {},
   "outputs": [
    {
     "name": "stdout",
     "output_type": "stream",
     "text": [
      "Accuracy Score: 0.8904626422563088\n",
      "Model Prediction Accuracy: 89.05%\n"
     ]
    }
   ],
   "source": [
    "print('Accuracy Score:',svc_as)\n",
    "print('Model Prediction Accuracy:',svc_mpa)"
   ]
  },
  {
   "cell_type": "markdown",
   "id": "f90ae0c0",
   "metadata": {},
   "source": [
    "#### Training and testing Random Forest Classifier on the preprocessed data"
   ]
  },
  {
   "cell_type": "code",
   "execution_count": 63,
   "id": "7b170da3",
   "metadata": {},
   "outputs": [],
   "source": [
    "from sklearn.ensemble import RandomForestClassifier"
   ]
  },
  {
   "cell_type": "code",
   "execution_count": 64,
   "id": "7553841b",
   "metadata": {},
   "outputs": [],
   "source": [
    "pipeline = Pipeline([\n",
    "    ('cv',CountVectorizer()),\n",
    "    ('tfidf',TfidfTransformer()),\n",
    "    ('classifier',RandomForestClassifier())\n",
    "])"
   ]
  },
  {
   "cell_type": "code",
   "execution_count": 65,
   "id": "d76488f4",
   "metadata": {},
   "outputs": [
    {
     "data": {
      "text/plain": [
       "Pipeline(steps=[('cv', CountVectorizer()), ('tfidf', TfidfTransformer()),\n",
       "                ('classifier', RandomForestClassifier())])"
      ]
     },
     "execution_count": 65,
     "metadata": {},
     "output_type": "execute_result"
    }
   ],
   "source": [
    "pipeline.fit(X_train,y_train)"
   ]
  },
  {
   "cell_type": "code",
   "execution_count": 66,
   "id": "77c1ac55",
   "metadata": {},
   "outputs": [
    {
     "data": {
      "text/plain": [
       "array(['OR', 'OR', 'CG', ..., 'OR', 'OR', 'CG'], dtype='<U2')"
      ]
     },
     "execution_count": 66,
     "metadata": {},
     "output_type": "execute_result"
    }
   ],
   "source": [
    "rfc_pred = pipeline.predict(X_test)\n",
    "rfc_pred"
   ]
  },
  {
   "cell_type": "code",
   "execution_count": 67,
   "id": "ab10e390",
   "metadata": {
    "scrolled": false
   },
   "outputs": [
    {
     "data": {
      "text/html": [
       "<div>\n",
       "<style scoped>\n",
       "    .dataframe tbody tr th:only-of-type {\n",
       "        vertical-align: middle;\n",
       "    }\n",
       "\n",
       "    .dataframe tbody tr th {\n",
       "        vertical-align: top;\n",
       "    }\n",
       "\n",
       "    .dataframe thead th {\n",
       "        text-align: right;\n",
       "    }\n",
       "</style>\n",
       "<table border=\"1\" class=\"dataframe\">\n",
       "  <thead>\n",
       "    <tr style=\"text-align: right;\">\n",
       "      <th></th>\n",
       "      <th>precision</th>\n",
       "      <th>recall</th>\n",
       "      <th>f1-score</th>\n",
       "      <th>support</th>\n",
       "    </tr>\n",
       "  </thead>\n",
       "  <tbody>\n",
       "    <tr>\n",
       "      <th>CG</th>\n",
       "      <td>0.836770</td>\n",
       "      <td>0.896901</td>\n",
       "      <td>0.865793</td>\n",
       "      <td>8099.000000</td>\n",
       "    </tr>\n",
       "    <tr>\n",
       "      <th>OR</th>\n",
       "      <td>0.888473</td>\n",
       "      <td>0.824390</td>\n",
       "      <td>0.855233</td>\n",
       "      <td>8069.000000</td>\n",
       "    </tr>\n",
       "    <tr>\n",
       "      <th>accuracy</th>\n",
       "      <td>0.860713</td>\n",
       "      <td>0.860713</td>\n",
       "      <td>0.860713</td>\n",
       "      <td>0.860713</td>\n",
       "    </tr>\n",
       "    <tr>\n",
       "      <th>macro avg</th>\n",
       "      <td>0.862622</td>\n",
       "      <td>0.860645</td>\n",
       "      <td>0.860513</td>\n",
       "      <td>16168.000000</td>\n",
       "    </tr>\n",
       "    <tr>\n",
       "      <th>weighted avg</th>\n",
       "      <td>0.862574</td>\n",
       "      <td>0.860713</td>\n",
       "      <td>0.860522</td>\n",
       "      <td>16168.000000</td>\n",
       "    </tr>\n",
       "  </tbody>\n",
       "</table>\n",
       "</div>"
      ],
      "text/plain": [
       "              precision    recall  f1-score       support\n",
       "CG             0.836770  0.896901  0.865793   8099.000000\n",
       "OR             0.888473  0.824390  0.855233   8069.000000\n",
       "accuracy       0.860713  0.860713  0.860713      0.860713\n",
       "macro avg      0.862622  0.860645  0.860513  16168.000000\n",
       "weighted avg   0.862574  0.860713  0.860522  16168.000000"
      ]
     },
     "execution_count": 67,
     "metadata": {},
     "output_type": "execute_result"
    }
   ],
   "source": [
    "rfc_cr = classification_report(y_test,rfc_pred,output_dict=True)\n",
    "rfc_cm = confusion_matrix(y_test,rfc_pred)\n",
    "rfc_as = accuracy_score(y_test,rfc_pred)\n",
    "rfc_mpa = str(np.round(accuracy_score(y_test,rfc_pred)*100,2)) + '%'\n",
    "\n",
    "# Classification Report\n",
    "pd.DataFrame(rfc_cr).T"
   ]
  },
  {
   "cell_type": "code",
   "execution_count": 68,
   "id": "5c5268be",
   "metadata": {},
   "outputs": [
    {
     "name": "stdout",
     "output_type": "stream",
     "text": [
      "Confusion Matrix: [[7264  835]\n",
      " [1417 6652]]\n"
     ]
    }
   ],
   "source": [
    "print('Confusion Matrix:',rfc_cm)"
   ]
  },
  {
   "cell_type": "code",
   "execution_count": 69,
   "id": "2b498015",
   "metadata": {},
   "outputs": [
    {
     "name": "stdout",
     "output_type": "stream",
     "text": [
      "Accuracy Score: 0.8607125185551707\n",
      "Model Prediction Accuracy: 86.07%\n"
     ]
    }
   ],
   "source": [
    "print('Accuracy Score:',rfc_as)\n",
    "print('Model Prediction Accuracy:',rfc_mpa)"
   ]
  },
  {
   "cell_type": "markdown",
   "id": "b7047110",
   "metadata": {},
   "source": [
    "#### Comparison of Performance"
   ]
  },
  {
   "cell_type": "code",
   "execution_count": 70,
   "id": "38681fac",
   "metadata": {},
   "outputs": [
    {
     "data": {
      "text/html": [
       "<div>\n",
       "<style scoped>\n",
       "    .dataframe tbody tr th:only-of-type {\n",
       "        vertical-align: middle;\n",
       "    }\n",
       "\n",
       "    .dataframe tbody tr th {\n",
       "        vertical-align: top;\n",
       "    }\n",
       "\n",
       "    .dataframe thead th {\n",
       "        text-align: right;\n",
       "    }\n",
       "</style>\n",
       "<table border=\"1\" class=\"dataframe\">\n",
       "  <thead>\n",
       "    <tr style=\"text-align: right;\">\n",
       "      <th></th>\n",
       "      <th>MNB</th>\n",
       "      <th>SVM</th>\n",
       "      <th>RFC</th>\n",
       "    </tr>\n",
       "  </thead>\n",
       "  <tbody>\n",
       "    <tr>\n",
       "      <th>Model Prediction Accuracy</th>\n",
       "      <td>85.13%</td>\n",
       "      <td>89.05%</td>\n",
       "      <td>86.07%</td>\n",
       "    </tr>\n",
       "  </tbody>\n",
       "</table>\n",
       "</div>"
      ],
      "text/plain": [
       "                              MNB     SVM     RFC\n",
       "Model Prediction Accuracy  85.13%  89.05%  86.07%"
      ]
     },
     "execution_count": 70,
     "metadata": {},
     "output_type": "execute_result"
    }
   ],
   "source": [
    "model_accuracy={'MNB': [mnb_mpa],\n",
    "                'SVM': [svc_mpa],\n",
    "                'RFC': [rfc_mpa]\n",
    "               }\n",
    "ma = pd.DataFrame(model_accuracy, columns = ['MNB','SVM','RFC'], index=['Model Prediction Accuracy'])\n",
    "ma"
   ]
  },
  {
   "cell_type": "markdown",
   "id": "85c18111",
   "metadata": {},
   "source": [
    "#### saving the best model"
   ]
  },
  {
   "cell_type": "code",
   "execution_count": 71,
   "id": "f5c5bfbe",
   "metadata": {},
   "outputs": [],
   "source": [
    "import pickle"
   ]
  },
  {
   "cell_type": "code",
   "execution_count": 72,
   "id": "7bd415cd",
   "metadata": {
    "scrolled": false
   },
   "outputs": [],
   "source": [
    "pipeline_svc = Pipeline([\n",
    "    ('cv',CountVectorizer()),\n",
    "    ('tfidf',TfidfTransformer()),\n",
    "    ('classifier',SVC(probability=True))\n",
    "])"
   ]
  },
  {
   "cell_type": "code",
   "execution_count": 73,
   "id": "bca3e856",
   "metadata": {},
   "outputs": [
    {
     "data": {
      "text/plain": [
       "Pipeline(steps=[('cv', CountVectorizer()), ('tfidf', TfidfTransformer()),\n",
       "                ('classifier', SVC(probability=True))])"
      ]
     },
     "execution_count": 73,
     "metadata": {},
     "output_type": "execute_result"
    }
   ],
   "source": [
    "pipeline_svc.fit(X_train,y_train)"
   ]
  },
  {
   "cell_type": "code",
   "execution_count": 74,
   "id": "ad7e71fb",
   "metadata": {},
   "outputs": [],
   "source": [
    "svc_pred = pipeline_svc.predict(X_test)"
   ]
  },
  {
   "cell_type": "code",
   "execution_count": 75,
   "id": "902b4590",
   "metadata": {},
   "outputs": [],
   "source": [
    "pickle.dump(pipeline_svc, open('pickle model/best_model.pkl','wb'))"
   ]
  }
 ],
 "metadata": {
  "kernelspec": {
   "display_name": "Python 3 (ipykernel)",
   "language": "python",
   "name": "python3"
  },
  "language_info": {
   "codemirror_mode": {
    "name": "ipython",
    "version": 3
   },
   "file_extension": ".py",
   "mimetype": "text/x-python",
   "name": "python",
   "nbconvert_exporter": "python",
   "pygments_lexer": "ipython3",
   "version": "3.9.12"
  }
 },
 "nbformat": 4,
 "nbformat_minor": 5
}
